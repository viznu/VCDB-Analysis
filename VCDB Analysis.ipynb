{
 "cells": [
  {
   "cell_type": "code",
   "execution_count": null,
   "metadata": {
    "collapsed": true
   },
   "outputs": [],
   "source": [
    "# Using the csv file at (https://github.com/vz-risk/VCDB/tree/master/data/csv) which was basically a master incident\n",
    "# file for all reported cyber incidents I used two claasification approaches followed by clustering the data for\n",
    "# more structure. There were many json files present for each individual incident at ( https://github.com/vz-risk/VCDB/tree/master/data/json) which\n",
    "# I felt would would be too sparse for my approach.\n",
    "\n",
    "# The csv file I originally downloaded had many unnecessary features for my purpose. It had upto 100+ columns with 5701\n",
    "# rows as seen below."
   ]
  },
  {
   "cell_type": "code",
   "execution_count": 27,
   "metadata": {
    "collapsed": false
   },
   "outputs": [],
   "source": [
    "import pandas\n",
    "\n",
    "csvfile = \"vcdb_org.csv\"\n",
    "dataset = pandas.read_csv(csvfile, names=names)\n"
   ]
  },
  {
   "cell_type": "code",
   "execution_count": null,
   "metadata": {
    "collapsed": true
   },
   "outputs": [],
   "source": [
    "#I removed most features from the csv file simply by using Excel and I reduced it to the following form with the \n",
    "# following features :-\n",
    "# \n",
    "#\n",
    "#1. year -> 20xx\n",
    "#2. victim.state -> US states\n",
    "# \n",
    "#3. action.Malware -> Incident symptom [TRUE/FALSE value reduced to 1/0 value]\n",
    "#4. action.Hacking -> Incident symptom [TRUE/FALSE value reduced to 1/0 value]\n",
    "#5. action.Social -> Incident symptom [TRUE/FALSE value reduced to 1/0 value]\n",
    "#6. action.Physical -> Incident symptom [TRUE/FALSE value reduced to 1/0 value]\n",
    "#7. action.Misuse -> Incident symptom [TRUE/FALSE value reduced to 1/0 value]\n",
    "#8. action.Error -> Incident symptom [TRUE/FALSE value reduced to 1/0 value]\n",
    "#9. action.Environmental -> Incident symptom [TRUE/FALSE value reduced to 1/0 value]\n",
    "#10. action.Unknown -> Incident symptom [TRUE/FALSE value reduced to 1/0 value]\n",
    "#\n",
    "#11. victim.industry.name -> {{ Public ,Healthcare , Information , Utilities , Other Services , Finance , Manufacturing \n",
    "#   Educational , Professional , Accomodation , Retail , Administrative ,Unknown , Transportation , Trade ,Real Estate,\n",
    "#   Management , Construction , Mining , Entertainment , Agriculture }}\n",
    "#\n",
    "#12. pattern - > {{ Privilege Misuse , Lost and Stolen Assets , Web Applications , Miscellaneous Errors , \n",
    "#                   Cyber-Espionage , Denial of Service , Everything Else , Payment Card Skimmers , Crimeware\n",
    "#                    Point of Sale\n",
    "#                }}"
   ]
  },
  {
   "cell_type": "code",
   "execution_count": 26,
   "metadata": {
    "collapsed": false
   },
   "outputs": [],
   "source": [
    "import pandas\n",
    "\n",
    "csvfile = \"vcdb.csv\"\n",
    "dataset = pandas.read_csv(csvfile, names=names)\n"
   ]
  },
  {
   "cell_type": "code",
   "execution_count": null,
   "metadata": {
    "collapsed": true
   },
   "outputs": [],
   "source": [
    "# The following script tries to classify the method involved in the incident with the domain of the industry involved.\n",
    "# I wanted to see if there was any correlation with the methods used with any one business domain.\n",
    "# I used the following table to assign integer values to the industries involved.\n",
    "\n",
    "'''\n",
    "Public \t1\n",
    "Healthcare \t2\n",
    "Information \t3\n",
    "Utilities \t4\n",
    "Other Services \t5\n",
    "Finance \t6\n",
    "Manufacturing \t7\n",
    "Educational \t8\n",
    "Professional \t9\n",
    "Accomodation \t10\n",
    "Retail \t11\n",
    "Administrative \t12\n",
    "Unknown\t13\n",
    "Transportation \t14\n",
    "Trade \t15\n",
    "Real Estate \t16\n",
    "Management \t17\n",
    "Construction \t18\n",
    "Mining \t19\n",
    "Entertainment \t20\n",
    "Agriculture \t21\n",
    "\n",
    "'''\n",
    "\n",
    "# the target set was \n",
    "#    pattern - > {{ Privilege Misuse , Lost and Stolen Assets , Web Applications , Miscellaneous Errors , \n",
    "#                   Cyber-Espionage , Denial of Service , Everything Else , Payment Card Skimmers , Crimeware\n",
    "#                    Point of Sale\n",
    "#                }}\n",
    "\n",
    "# I split the dataset into a training set and data validation set using a 15-fold on the given dataset.\n",
    "# I also applied a K nearest neighbours classifier for a dry run to check the confusion matrix."
   ]
  },
  {
   "cell_type": "code",
   "execution_count": 4,
   "metadata": {
    "collapsed": false
   },
   "outputs": [
    {
     "name": "stdout",
     "output_type": "stream",
     "text": [
      "LR: 0.780451 (0.015171)\n",
      "LDA: 0.779198 (0.015181)\n",
      "KNN: 0.764662 (0.022457)\n",
      "TREE: 0.794486 (0.012631)\n",
      "NB: 0.500251 (0.015171)\n",
      "SVM: 0.780451 (0.015898)\n"
     ]
    },
    {
     "data": {
      "image/png": "[encoded data removed]",
      "text/plain": [
       "<matplotlib.figure.Figure at 0x118b9ce50>"
      ]
     },
     "metadata": {},
     "output_type": "display_data"
    },
    {
     "name": "stdout",
     "output_type": "stream",
     "text": [
      "0.75511396844\n",
      "[[ 30   7   0   0   0   1   0   5   0   2]\n",
      " [  3  56   0   6   0   0   0   0   0   7]\n",
      " [  0   0   3  34   0   0   0   0   0  15]\n",
      " [  3   1   2 156  13   0   0   4   3  60]\n",
      " [  0   0   0   0 240  84   8   0   0   0]\n",
      " [  0   0   0   0   0 392   0   0   0   0]\n",
      " [  0   0   0   0  25   0   7   0   0   0]\n",
      " [  1   0   0   2   1   0   0  14   0   1]\n",
      " [  0   1   0   0   0   1   0   0 315   0]\n",
      " [  1   9  13 101   0   1   0   4   0  79]]\n",
      "                        precision    recall  f1-score   support\n",
      "\n",
      "             Crimeware       0.79      0.67      0.72        45\n",
      "       Cyber-Espionage       0.76      0.78      0.77        72\n",
      "     Denial of Service       0.17      0.06      0.09        52\n",
      "       Everything Else       0.52      0.64      0.58       242\n",
      "Lost and Stolen Assets       0.86      0.72      0.79       332\n",
      "  Miscellaneous Errors       0.82      1.00      0.90       392\n",
      " Payment Card Skimmers       0.47      0.22      0.30        32\n",
      "         Point of Sale       0.52      0.74      0.61        19\n",
      "      Privilege Misuse       0.99      0.99      0.99       317\n",
      "      Web Applications       0.48      0.38      0.42       208\n",
      "\n",
      "           avg / total       0.74      0.76      0.74      1711\n",
      "\n"
     ]
    }
   ],
   "source": [
    "import pandas\n",
    "from pandas.tools.plotting import scatter_matrix\n",
    "import matplotlib.pyplot as plt\n",
    "from sklearn import model_selection\n",
    "from sklearn.metrics import classification_report\n",
    "from sklearn.metrics import confusion_matrix\n",
    "from sklearn.metrics import accuracy_score\n",
    "from sklearn.linear_model import LogisticRegression\n",
    "from sklearn.tree import DecisionTreeClassifier\n",
    "from sklearn.neighbors import KNeighborsClassifier\n",
    "from sklearn.discriminant_analysis import LinearDiscriminantAnalysis\n",
    "from sklearn.naive_bayes import GaussianNB\n",
    "from sklearn.svm import SVC\n",
    "\n",
    "\n",
    "csvfile = \"vcdb1.csv\"\n",
    "names = [ 'action.Malware' ,   'action.Hacking' ,   'action.Social' ,   'action.Physical' ,   'action.Misuse' ,   'action.Error' ,   'action.Environmental' ,  'action.Unknown' ,   'victim.industry.name', 'pattern' ]\n",
    "dataset = pandas.read_csv(csvfile, names=names)\n",
    "array = dataset.values\n",
    "X = array[:,0:9]\n",
    "Y = array[:,9]\n",
    "validation_size = 0.15\n",
    "seed = 7\n",
    "X_train, X_validation, Y_train, Y_validation = model_selection.train_test_split(X, Y, test_size=validation_size, random_state=seed)\n",
    "scoring = 'accuracy'\n",
    "\n",
    "models  = []\n",
    "models.append(('LR', LogisticRegression()))\n",
    "models.append(('LDA', LinearDiscriminantAnalysis()))\n",
    "models.append(('KNN', KNeighborsClassifier()))\n",
    "models.append(('TREE', DecisionTreeClassifier()))\n",
    "models.append(('NB', GaussianNB()))\n",
    "models.append(('SVM', SVC()))\n",
    "results = []\n",
    "names = []\n",
    "\n",
    "for name, model in models:\n",
    "        kfold = model_selection.KFold(n_splits=10, random_state=seed)\n",
    "        cv_results = model_selection.cross_val_score(model, X_train, Y_train, cv=kfold, scoring=scoring)\n",
    "        results.append(cv_results)\n",
    "        names.append(name)\n",
    "        msg = \"%s: %f (%f)\" % (name, cv_results.mean(), cv_results.std())\n",
    "        print(msg)\n",
    "\n",
    "\n",
    "fig = plt.figure()\n",
    "fig.suptitle('Analysis of classifiers')\n",
    "ax = fig.add_subplot(111)\n",
    "plt.boxplot(results)\n",
    "ax.set_xticklabels(names)\n",
    "plt.show()\n",
    "\n",
    "knn = KNeighborsClassifier()\n",
    "knn.fit(X_train, Y_train)\n",
    "predictions = knn.predict(X_validation)\n",
    "print(accuracy_score(Y_validation, predictions))\n",
    "print(confusion_matrix(Y_validation, predictions))\n",
    "print(classification_report(Y_validation, predictions))\n"
   ]
  },
  {
   "cell_type": "code",
   "execution_count": null,
   "metadata": {
    "collapsed": true
   },
   "outputs": [],
   "source": [
    "# As you can see the highest accuracy for the methods is using the Decision Tree classifier. So I implemented a \n",
    "# decision tree classifier."
   ]
  },
  {
   "cell_type": "code",
   "execution_count": 11,
   "metadata": {
    "collapsed": false
   },
   "outputs": [
    {
     "name": "stdout",
     "output_type": "stream",
     "text": [
      "0.797142857143\n",
      "[[ 14   0   0   1   1   0   0   2   0   0]\n",
      " [  0  16   0   0   0   0   0   0   0   2]\n",
      " [  0   0   0   2   0   0   0   0   0  16]\n",
      " [  1   1   0  57   4   0   3   1   0  35]\n",
      " [  0   0   0   0 109  33   2   0   0   0]\n",
      " [  0   0   0   0   0 180   0   0   0   0]\n",
      " [  0   0   0   0   9   0   5   0   0   0]\n",
      " [  1   0   0   4   0   0   0   7   0   1]\n",
      " [  0   0   0   0   0   0   0   0 103   0]\n",
      " [  1   1   0  18   0   1   0   0   2  67]]\n",
      "                        precision    recall  f1-score   support\n",
      "\n",
      "             Crimeware       0.82      0.78      0.80        18\n",
      "       Cyber-Espionage       0.89      0.89      0.89        18\n",
      "     Denial of Service       0.00      0.00      0.00        18\n",
      "       Everything Else       0.70      0.56      0.62       102\n",
      "Lost and Stolen Assets       0.89      0.76      0.82       144\n",
      "  Miscellaneous Errors       0.84      1.00      0.91       180\n",
      " Payment Card Skimmers       0.50      0.36      0.42        14\n",
      "         Point of Sale       0.70      0.54      0.61        13\n",
      "      Privilege Misuse       0.98      1.00      0.99       103\n",
      "      Web Applications       0.55      0.74      0.64        90\n",
      "\n",
      "           avg / total       0.78      0.80      0.78       700\n",
      "\n"
     ]
    },
    {
     "name": "stderr",
     "output_type": "stream",
     "text": [
      "/Users/Vishnu/anaconda/lib/python2.7/site-packages/sklearn/metrics/classification.py:1113: UndefinedMetricWarning: Precision and F-score are ill-defined and being set to 0.0 in labels with no predicted samples.\n",
      "  'precision', 'predicted', average, warn_for)\n"
     ]
    }
   ],
   "source": [
    "import pandas\n",
    "from sklearn.metrics import confusion_matrix\n",
    "from sklearn.metrics import accuracy_score\n",
    "from sklearn.tree import DecisionTreeClassifier\n",
    "import numpy as np\n",
    "\n",
    "url = \"vcdb1.csv\"\n",
    "names = [ 'action.Malware' ,   'action.Hacking' ,   'action.Social' ,   'action.Physical' ,   'action.Misuse' ,   'action.Error' ,   'action.Environmental' ,  'action.Unknown' ,   'victim.industry.name', 'pattern' ]\n",
    "dataset = pandas.read_csv(url, names=names)\n",
    "array = dataset.values\n",
    "X = array[:5001,0:9]\n",
    "Y = array[:5001,9]\n",
    "test_idx = array[5001:5701,0:9]\n",
    "\n",
    "clf = DecisionTreeClassifier()\n",
    "clf.fit(X,Y)\n",
    "\n",
    "predictions = clf.predict(test_idx)\n",
    "#print predictions\n",
    "print(accuracy_score(array[5001:5701,9], predictions))\n",
    "print(confusion_matrix( array[5001:5701,9], predictions))\n",
    "print(classification_report(array[5001:5701,9], predictions))"
   ]
  },
  {
   "cell_type": "code",
   "execution_count": null,
   "metadata": {
    "collapsed": true
   },
   "outputs": [],
   "source": [
    "# With an accuracy of ~80% I decided changing the model to a clustering paradigm. I used K means to glean some \n",
    "# structure of the data. I decided to use just two features, namely Victim's Industry and the Attack Pattern with the\n",
    "# following numerical codes.\n",
    "'''\n",
    "Public \t1\n",
    "Healthcare \t2\n",
    "Information \t3\n",
    "Utilities \t4\n",
    "Other Services \t5\n",
    "Finance \t6\n",
    "Manufacturing \t7\n",
    "Educational \t8\n",
    "Professional \t9\n",
    "Accomodation \t10\n",
    "Retail \t11\n",
    "Administrative \t12\n",
    "Unknown\t13\n",
    "Transportation \t14\n",
    "Trade \t15\n",
    "Real Estate \t16\n",
    "Management \t17\n",
    "Construction \t18\n",
    "Mining \t19\n",
    "Entertainment \t20\n",
    "Agriculture \t21\n",
    "\n",
    "'''\n",
    "\n",
    "'''\n",
    "Privilege Misuse\t1\n",
    "Lost and Stolen Assets\t2\n",
    "Web Applications\t3\n",
    "Miscellaneous Errors\t4\n",
    "Cyber-Espionage\t5\n",
    "Denial of Service\t6\n",
    "Everything Else\t7\n",
    "Payment Card Skimmers\t8\n",
    "Crimeware\t9\n",
    "Point of Sale\t10\n",
    "'''\n"
   ]
  },
  {
   "cell_type": "code",
   "execution_count": 12,
   "metadata": {
    "collapsed": false
   },
   "outputs": [
    {
     "name": "stdout",
     "output_type": "stream",
     "text": [
      "[[  1.18396226   4.00314465]\n",
      " [  8.56777494   2.66240409]\n",
      " [ 12.51869159   2.53037383]\n",
      " [  2.06748466   7.07157464]\n",
      " [ 11.87407407   7.9037037 ]\n",
      " [  6.00793651   2.48214286]\n",
      " [  1.64092664   1.56241956]\n",
      " [  6.86556604   7.19339623]\n",
      " [ 18.4          4.29      ]\n",
      " [  2.99628253   3.28624535]]\n",
      "[6 6 6 ..., 1 6 0]\n"
     ]
    }
   ],
   "source": [
    "import pandas\n",
    "from pandas.tools.plotting import scatter_matrix\n",
    "import matplotlib.pyplot as plt\n",
    "from sklearn import model_selection\n",
    "from sklearn.metrics import classification_report\n",
    "from sklearn.metrics import confusion_matrix\n",
    "from sklearn.metrics import accuracy_score\n",
    "import numpy as np\n",
    "from matplotlib import style\n",
    "style.use(\"ggplot\")\n",
    "from sklearn.cluster import KMeans\n",
    "\n",
    "url = \"vcdb3.csv\"\n",
    "names = [ 'victim.industry.name', 'pattern' ]\n",
    "dataset = pandas.read_csv(url, names=names)\n",
    "array = dataset.values\n",
    "\n",
    "kmeans = KMeans(n_clusters = 10)\n",
    "kmeans.fit(array)\n",
    "\n",
    "centroids = kmeans.cluster_centers_\n",
    "labels = kmeans.labels_\n",
    "\n",
    "print centroids\n",
    "print labels"
   ]
  },
  {
   "cell_type": "code",
   "execution_count": null,
   "metadata": {
    "collapsed": true
   },
   "outputs": [],
   "source": [
    "# Now I wanted to plot the clusters using the following script."
   ]
  },
  {
   "cell_type": "code",
   "execution_count": 24,
   "metadata": {
    "collapsed": false,
    "scrolled": true
   },
   "outputs": [
    {
     "name": "stdout",
     "output_type": "stream",
     "text": [
      "Size = 10 Avg. silhouette score: 0.542094550464\n"
     ]
    },
    {
     "data": {
      "image/png": "[encoded data removed]",
      "text/plain": [
       "<matplotlib.figure.Figure at 0x11cc407d0>"
      ]
     },
     "metadata": {},
     "output_type": "display_data"
    }
   ],
   "source": [
    "from __future__ import print_function\n",
    "import pandas\n",
    "from sklearn.datasets import make_blobs\n",
    "from sklearn.cluster import KMeans\n",
    "from sklearn.metrics import silhouette_samples, silhouette_score\n",
    "\n",
    "import matplotlib.pyplot as plt\n",
    "import matplotlib.cm as cm\n",
    "import numpy as np\n",
    "\n",
    "\n",
    "cluster_size_range = [10]\n",
    "csvfile = \"vcdb3.csv\"\n",
    "columns = [ 'victim.industry.name', 'pattern' ]\n",
    "dataset = pandas.read_csv(csvfile, names=columns)\n",
    "data_array = dataset.values\n",
    "\n",
    "\n",
    "for clustersize in cluster_size_range:\n",
    "    graph, (axis_1, axis_2) = plt.subplots(1, 2)\n",
    "    graph.set_size_inches(18, 7)\n",
    "\n",
    "    axis_1.set_xlim([-0.1, 1])\n",
    "    axis_1.set_ylim([1, len(data_array) + (clustersize + 1) * 10])\n",
    "\n",
    "\n",
    "    kmeans = KMeans(n_clusters = clustersize, init='k-means++', max_iter=500,tol=0.0001)\n",
    "    clusters = kmeans.fit_predict(data_array)\n",
    "\n",
    "    silhouette_avg = silhouette_score(data_array, clusters)\n",
    "    print(\"Size =\", clustersize,\n",
    "          \"Avg. silhouette score:\", silhouette_avg)\n",
    "\n",
    "    sil_vals = silhouette_samples(data_array, clusters)\n",
    "\n",
    "    y_lower = 10\n",
    "    for i in range(clustersize):\n",
    "        clust_vals = sil_vals[clusters == i]\n",
    "        clust_vals.sort()\n",
    "        clustersize_cluster_i = clust_vals.shape[0]\n",
    "        y_upper = y_lower + clustersize_cluster_i\n",
    "        color = cm.spectral(float(i) / clustersize)\n",
    "        axis_1.fill_betweenx(np.arange(y_lower, y_upper),\n",
    "                          0, clust_vals,\n",
    "                          facecolor=color, edgecolor=color, alpha=0.7)\n",
    "\n",
    "        axis_1.text(-0.05, y_lower + 0.5 * clustersize_cluster_i, str(i))\n",
    "        y_lower = y_upper + 10\n",
    "\n",
    "    axis_1.set_title(\"Silhouette plot for the various clusters.\")\n",
    "    axis_1.set_xlabel(\"The silhouette coefficient values\")\n",
    "    axis_1.set_ylabel(\"Cluster label\")\n",
    "\n",
    "    axis_1.axvline(x=silhouette_avg, color=\"red\", linestyle=\"--\")\n",
    "\n",
    "\n",
    "    axis_1.set_yticks([])\n",
    "    axis_1.set_xticks([0, 0.2, 0.4, 0.6, 0.8, 1])\n",
    "    \n",
    "    \n",
    "    colors = cm.spectral(clusters.astype(float) / clustersize)\n",
    "    axis_2.scatter(data_array[:, 0], data_array[:, 1], marker='.', s=30, lw=0, alpha=0.7,\n",
    "                c=colors)\n",
    "\n",
    "    centers = kmeans.cluster_centers_\n",
    "    axis_2.scatter(centers[:, 0], centers[:, 1],\n",
    "                marker='o', c=\"white\", alpha=1, s=200)\n",
    "\n",
    "    for i, c in enumerate(centers):\n",
    "        axis_2.scatter(c[0], c[1], marker='$%d$' % i, alpha=1, s=50)\n",
    "\n",
    "    axis_2.set_title(\"The visualization of the clustered data.\")\n",
    "    axis_2.set_xlabel(\"Feature space for the 1st feature\")\n",
    "    axis_2.set_ylabel(\"Feature space for the 2nd feature\")\n",
    "\n",
    "    plt.suptitle((\"Silhouette analysis for KMeans clustering\"),\n",
    "                 fontsize=14, fontweight='bold')\n",
    "\n",
    "    plt.show()\n",
    "\n"
   ]
  },
  {
   "cell_type": "code",
   "execution_count": 23,
   "metadata": {
    "collapsed": true
   },
   "outputs": [],
   "source": [
    "# From the visualization we can see some strong correlation between some industries and the kind of cyber incidents \n",
    "# that have afflicted them.\n",
    "\n",
    "# for example from the 2nd graph\n",
    "# cluster 1 - shows a strong correlation between \n",
    "# Y-AXIS { Privilege Misuse , Lost and Stolen Assets }  -> X-AXIS {  Public , Healthcare }"
   ]
  }
 ],
 "metadata": {
  "kernelspec": {
   "display_name": "Python 2",
   "language": "python",
   "name": "python2"
  },
  "language_info": {
   "codemirror_mode": {
    "name": "ipython",
    "version": 2
   },
   "file_extension": ".py",
   "mimetype": "text/x-python",
   "name": "python",
   "nbconvert_exporter": "python",
   "pygments_lexer": "ipython2",
   "version": "2.7.13"
  }
 },
 "nbformat": 4,
 "nbformat_minor": 2
}
